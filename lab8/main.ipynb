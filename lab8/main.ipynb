{
 "cells": [
  {
   "cell_type": "code",
   "execution_count": 6,
   "metadata": {},
   "outputs": [],
   "source": [
    "import numpy as np\n",
    "import pandas as pd\n",
    "import pathlib\n",
    "import matplotlib.pyplot as plt"
   ]
  },
  {
   "cell_type": "code",
   "execution_count": 7,
   "metadata": {},
   "outputs": [],
   "source": [
    "DATASETS_PATH = pathlib.Path('datasets')\n",
    "INSTANCES = [\"TSPA_solutions.csv\",\n",
    "             \"TSPB_solutions.csv\",\n",
    "             \"TSPC_solutions.csv\",\n",
    "             \"TSPD_solutions.csv\"]"
   ]
  },
  {
   "cell_type": "code",
   "execution_count": 8,
   "metadata": {},
   "outputs": [],
   "source": [
    "class Solution:\n",
    "    def __init__(self, sol_array) -> None:\n",
    "        self.solution = sol_array[:-1]\n",
    "        self.evaluation = sol_array[-1]\n",
    "\n",
    "        self.nodes = self.make_set_of_nodes(self.solution)\n",
    "        self.edges = self.make_set_of_edges(self.solution)\n",
    "\n",
    "    def make_set_of_nodes(self, arr: np.ndarray):\n",
    "        return set(arr)\n",
    "    \n",
    "    def make_set_of_edges(self, arr: np.ndarray):\n",
    "        edges = []\n",
    "        for idx in range(len(arr)-1):\n",
    "            edges.append(sorted([arr[idx], arr[idx+1]]))\n",
    "        edges.append(sorted([arr[0], arr[-1]]))\n",
    "\n",
    "        return set(tuple(x) for x in edges)"
   ]
  },
  {
   "cell_type": "code",
   "execution_count": 9,
   "metadata": {},
   "outputs": [],
   "source": [
    "def read_data(path) -> list[Solution]:\n",
    "    solutions = []\n",
    "    dataset = pd.read_csv(path, header=None).to_numpy()\n",
    "    for sol in dataset[:-1]:\n",
    "        solutions.append(Solution(sol_array=sol))\n",
    "\n",
    "    return solutions, Solution(sol_array=dataset[-1])\n",
    "    \n",
    "solutions, best_solution = read_data(DATASETS_PATH.joinpath(\"TSPA_solutions.csv\"))"
   ]
  },
  {
   "cell_type": "code",
   "execution_count": 10,
   "metadata": {},
   "outputs": [
    {
     "data": {
      "text/plain": [
       "61"
      ]
     },
     "execution_count": 10,
     "metadata": {},
     "output_type": "execute_result"
    }
   ],
   "source": [
    "def similarity(sol1: Solution,\n",
    "               sol2: Solution,\n",
    "               similarity_measure: str):\n",
    "    \n",
    "    if similarity_measure == \"NODES\":\n",
    "        set1, set2 = sol1.nodes, sol2.nodes\n",
    "\n",
    "    if similarity_measure == \"EDGES\":\n",
    "        set1, set2 = sol1.edges, sol2.edges\n",
    "\n",
    "    return len(set1.intersection(set2))\n",
    "\n",
    "similarity(sol1=solutions[0],\n",
    "           sol2=best_solution, \n",
    "           similarity_measure=\"EDGES\")"
   ]
  },
  {
   "cell_type": "code",
   "execution_count": 11,
   "metadata": {},
   "outputs": [],
   "source": [
    "def get_comparison_list(solutions: list[Solution],\n",
    "                        best_solution: Solution, \n",
    "                        similarity_version: str):\n",
    "    \n",
    "    if similarity_version == \"BEST\":\n",
    "        comparison_list = [best_solution]\n",
    "    if similarity_version == \"AVERAGE\":\n",
    "        comparison_list = solutions\n",
    "\n",
    "    return comparison_list"
   ]
  },
  {
   "cell_type": "code",
   "execution_count": 18,
   "metadata": {},
   "outputs": [],
   "source": [
    "def plot_similarity(ax,\n",
    "                    solution_evals: list,\n",
    "                    similarity_avgs: list,\n",
    "                    similarity_version: str,\n",
    "                    similarity_measure: str):\n",
    "    correlation = np.corrcoef(solution_evals,similarity_avgs)[0,1]\n",
    "    correlation = np.round(correlation, 3)\n",
    "\n",
    "    ax.scatter(x=solution_evals,\n",
    "                y=similarity_avgs,\n",
    "                s=10)\n",
    "    ax.set_xlabel(\"EVALUATION\")\n",
    "    ax.set_ylabel(\"SIMILARITY\")\n",
    "    ax.set_title(f\"{similarity_version.lower()}_{similarity_measure.lower()}_({str(correlation)})\",\n",
    "              fontsize=15)"
   ]
  },
  {
   "cell_type": "code",
   "execution_count": 19,
   "metadata": {},
   "outputs": [],
   "source": [
    "\n",
    "for instance in INSTANCES:\n",
    "    path = DATASETS_PATH.joinpath(instance)\n",
    "    solutions, best_solution = read_data(path)\n",
    "\n",
    "    fig, axs = plt.subplots(2, 2, figsize=(15,10))\n",
    "    fig.tight_layout(pad=6)\n",
    "    fig.suptitle(instance.split(\"_\")[0], fontsize=20)\n",
    "    axs = axs.flatten()\n",
    "    idx = 0\n",
    "    \n",
    "    for similarity_version in [\"BEST\", \"AVERAGE\"]:\n",
    "        comparison_list = get_comparison_list(solutions,best_solution, similarity_version)\n",
    "\n",
    "        for similarity_measure in [\"NODES\", \"EDGES\"]:\n",
    "\n",
    "            similarity_avgs = []\n",
    "            solution_evals = []\n",
    "            for solution in solutions:\n",
    "\n",
    "                comparison_list_tmp = [x for x in comparison_list if x != solution]\n",
    "                similarities = []\n",
    "                for comp_solution in comparison_list_tmp:\n",
    "                    similarities.append(similarity(sol1=solution,\n",
    "                                                   sol2=comp_solution,\n",
    "                                                   similarity_measure=similarity_measure))\n",
    "                    \n",
    "                similarity_avgs.append(np.average(similarities))\n",
    "                solution_evals.append(solution.evaluation)\n",
    "\n",
    "            plot_similarity(ax = axs[idx],\n",
    "                            solution_evals=solution_evals,\n",
    "                            similarity_avgs=similarity_avgs,\n",
    "                            similarity_measure=similarity_measure,\n",
    "                            similarity_version=similarity_version)\n",
    "            idx+=1\n",
    "\n",
    "    fig.savefig(f\"plots/{instance.split('_')[0]}\")\n",
    "    plt.close()"
   ]
  }
 ],
 "metadata": {
  "kernelspec": {
   "display_name": "Python 3",
   "language": "python",
   "name": "python3"
  },
  "language_info": {
   "codemirror_mode": {
    "name": "ipython",
    "version": 3
   },
   "file_extension": ".py",
   "mimetype": "text/x-python",
   "name": "python",
   "nbconvert_exporter": "python",
   "pygments_lexer": "ipython3",
   "version": "3.10.12"
  }
 },
 "nbformat": 4,
 "nbformat_minor": 2
}
